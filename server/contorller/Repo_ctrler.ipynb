{
 "cells": [
  {
   "cell_type": "code",
   "execution_count": 12,
   "metadata": {},
   "outputs": [],
   "source": [
    "import pandas as pd\n",
    "import os\n",
    "############################################## \n",
    "#已買清單\n",
    "buy_list=list(pd.read_excel('Repo/buy_list.xlsx',dtype=str)[0])\n",
    "##############################################\n",
    "#過去的推薦買賣股票\n",
    "if os.path.isfile('Repo/buy_id.xlsx') and os.path.isfile('Repo/sell_id.xlsx'):\n",
    "    b=pd.read_excel('Repo/buy_id.xlsx')\n",
    "    s=pd.read_excel('Repo/sell_id.xlsx',dtype={0:str})[0]\n",
    "\n",
    "else:\n",
    "    b=[]\n",
    "    s=[]\n",
    "buy_last=list(b[:])\n",
    "sell_last=list(s[:])\n",
    "sum_buy=0\n",
    "sum_sell=0"
   ]
  },
  {
   "cell_type": "code",
   "execution_count": 16,
   "metadata": {},
   "outputs": [
    {
     "data": {
      "text/plain": [
       "['0050']"
      ]
     },
     "execution_count": 16,
     "metadata": {},
     "output_type": "execute_result"
    }
   ],
   "source": [
    "list(s)"
   ]
  }
 ],
 "metadata": {
  "kernelspec": {
   "display_name": "Python 3",
   "language": "python",
   "name": "python3"
  },
  "language_info": {
   "codemirror_mode": {
    "name": "ipython",
    "version": 3
   },
   "file_extension": ".py",
   "mimetype": "text/x-python",
   "name": "python",
   "nbconvert_exporter": "python",
   "pygments_lexer": "ipython3",
   "version": "3.8.5"
  }
 },
 "nbformat": 4,
 "nbformat_minor": 4
}
